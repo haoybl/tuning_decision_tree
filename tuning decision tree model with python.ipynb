{
 "cells": [
  {
   "cell_type": "markdown",
   "metadata": {},
   "source": [
    "# optimizing hyperparameters in decision tree with python\n",
    "Qiudong Deng\n",
    "qddeng@gmail.com"
   ]
  },
  {
   "cell_type": "code",
   "execution_count": 3,
   "metadata": {
    "collapsed": false,
    "scrolled": false
   },
   "outputs": [
    {
     "name": "stdout",
     "output_type": "stream",
     "text": [
      "32561 x 15\n",
      "age                int64\n",
      "workclass         object\n",
      "fnlwgt             int64\n",
      "education         object\n",
      "education-num      int64\n",
      "marital-status    object\n",
      "occupation        object\n",
      "relationship      object\n",
      "race              object\n",
      "sex               object\n",
      "capital-gain       int64\n",
      "capital-loss       int64\n",
      "hours-per-week     int64\n",
      "native-country    object\n",
      "y                 object\n",
      "dtype: object\n",
      "age               int64\n",
      "workclass         int64\n",
      "fnlwgt            int64\n",
      "education         int64\n",
      "education-num     int64\n",
      "marital-status    int64\n",
      "occupation        int64\n",
      "relationship      int64\n",
      "race              int64\n",
      "sex               int64\n",
      "capital-gain      int64\n",
      "capital-loss      int64\n",
      "hours-per-week    int64\n",
      "native-country    int64\n",
      "y                 int64\n",
      "dtype: object\n",
      "* features:\n",
      "['age', 'workclass', 'fnlwgt', 'education', 'education-num', 'marital-status', 'occupation', 'relationship', 'race', 'sex', 'capital-gain', 'capital-loss', 'hours-per-week', 'native-country']\n"
     ]
    }
   ],
   "source": [
    "#set wd\n",
    "\n",
    "import os\n",
    "os.getcwd()\n",
    "os.chdir('E:/2016 spring course/msa 8150/final project proposal')\n",
    "os.getcwd()\n",
    "\n",
    "# import modules\n",
    "import pandas as pd\n",
    "import numpy as np\n",
    "import subprocess\n",
    "\n",
    "#read data in-1\n",
    "#data from https://archive.ics.uci.edu/ml/machine-learning-databases/\n",
    "df = pd.read_csv(\"adult with col names with na.csv\", index_col=0)\n",
    "#list(df)\n",
    "\n",
    "\n",
    "ncol = len(df.axes[1])\n",
    "nrow=len(df.axes[0])\n",
    "print(\"%s x %s\" % (nrow, ncol)) #check dimension \n",
    "print (df.dtypes) #check data types\n",
    "\n",
    "# count freq\n",
    "#df.groupby('y').count()\n",
    "\n",
    "#convert object col to int64 and rename-2\n",
    "n = ncol\n",
    "for i in range(0,n):\n",
    "       if (df.iloc[:,i].dtype==object):\n",
    "        A= df.iloc[:,i].unique()\n",
    "        map_to_int = {name: n for n, name in enumerate(A)}\n",
    "        df.iloc[:,i] = df.iloc[:,i].replace(map_to_int)\n",
    "print (df.dtypes)\n",
    "\n",
    "\n",
    "#first n-1col as features, and the last one as target\n",
    "df1=df.iloc[:,0:n]\n",
    "features = list(df1.columns[:(n-1)])\n",
    "print(\"* features:\", features, sep=\"\\n\")\n",
    "df1.rename(columns={'y':'Target'}, inplace=True)\n",
    "#list(df1)\n",
    "#df1\n",
    "\n",
    "y = df1[\"Target\"]\n",
    "X = df1[features]\n",
    "\n",
    "#split data to train and test-3\n",
    "from sklearn.cross_validation import train_test_split\n",
    "\n",
    "train, test = train_test_split(df1, test_size = 0.5)\n",
    "\n",
    "#using train set to construct tree-4\n",
    "y = train[\"Target\"]\n",
    "X = train[features]"
   ]
  },
  {
   "cell_type": "code",
   "execution_count": 2,
   "metadata": {
    "collapsed": false
   },
   "outputs": [
    {
     "name": "stdout",
     "output_type": "stream",
     "text": [
      "Automatically created module for IPython interactive environment\n"
     ]
    }
   ],
   "source": [
    "print(__doc__)\n",
    "\n",
    "import numpy as np\n",
    "\n",
    "from time import time\n",
    "from operator import itemgetter\n",
    "from scipy.stats import randint as sp_randint\n",
    "\n",
    "from sklearn.grid_search import GridSearchCV, RandomizedSearchCV\n",
    "from sklearn.datasets import load_digits\n",
    "from sklearn.ensemble import RandomForestClassifier\n",
    "from sklearn.tree import DecisionTreeClassifier\n",
    "# data from above section"
   ]
  },
  {
   "cell_type": "code",
   "execution_count": 3,
   "metadata": {
    "collapsed": false
   },
   "outputs": [
    {
     "name": "stdout",
     "output_type": "stream",
     "text": [
      "RandomizedSearchCV took 200.29 seconds for 1000 candidates parameter settings.\n",
      "Model with rank: 1\n",
      "Mean validation score: 0.843 (std: 0.005)\n",
      "Parameters: {'presort': False, 'min_samples_leaf': 692, 'criterion': 'gini', 'max_features': 12, 'random_state': 100, 'class_weight': None, 'min_samples_split': 2978, 'max_depth': None}\n",
      "\n",
      "Model with rank: 2\n",
      "Mean validation score: 0.841 (std: 0.008)\n",
      "Parameters: {'presort': True, 'min_samples_leaf': 158, 'criterion': 'entropy', 'max_features': 10, 'random_state': None, 'class_weight': None, 'min_samples_split': 3742, 'max_depth': None}\n",
      "\n",
      "Model with rank: 3\n",
      "Mean validation score: 0.838 (std: 0.006)\n",
      "Parameters: {'presort': False, 'min_samples_leaf': 269, 'criterion': 'entropy', 'max_features': 9, 'random_state': None, 'class_weight': None, 'min_samples_split': 882, 'max_depth': None}\n",
      "\n"
     ]
    }
   ],
   "source": [
    "# build a classifier\n",
    "clf = DecisionTreeClassifier()\n",
    "\n",
    "\n",
    "\n",
    "# Utility function to report best scores\n",
    "def report(grid_scores, n_top=3):\n",
    "    top_scores = sorted(grid_scores, key=itemgetter(1), reverse=True)[:n_top]\n",
    "    for i, score in enumerate(top_scores):\n",
    "        print(\"Model with rank: {0}\".format(i + 1))\n",
    "        print(\"Mean validation score: {0:.3f} (std: {1:.3f})\".format(\n",
    "              score.mean_validation_score,\n",
    "              np.std(score.cv_validation_scores)))\n",
    "        print(\"Parameters: {0}\".format(score.parameters))\n",
    "        print(\"\")\n",
    "\n",
    "             \n",
    "        \n",
    "#specify parameters and distributions to sample from\n",
    "param_dist = {\"max_depth\": [3,2,1, None],\n",
    "              \"max_features\": sp_randint(1, 15),\n",
    "              \"min_samples_split\": sp_randint(1, 5000),\n",
    "              \"min_samples_leaf\": sp_randint(1, 5000),\n",
    "        \n",
    "              \"random_state\":[100,None],\n",
    "              \"presort\": [True, False],\n",
    "              \"class_weight\":[ \"balanced\" , None],\n",
    "              \"criterion\": [\"gini\", \"entropy\"]}\n",
    "\n",
    "# run randomized search\n",
    "n_iter_search = 1000\n",
    "random_search = RandomizedSearchCV(clf, param_distributions=param_dist,\n",
    "                                   n_iter=n_iter_search)\n",
    "\n",
    "start = time()\n",
    "random_search.fit(X, y)\n",
    "print(\"RandomizedSearchCV took %.2f seconds for %d candidates\"\n",
    "      \" parameter settings.\" % ((time() - start), n_iter_search))\n",
    "report(random_search.grid_scores_)"
   ]
  },
  {
   "cell_type": "code",
   "execution_count": 18,
   "metadata": {
    "collapsed": false
   },
   "outputs": [
    {
     "name": "stdout",
     "output_type": "stream",
     "text": [
      "GridSearchCV took 2975.17 seconds for 8000 candidate parameter settings.\n",
      "Model with rank: 1\n",
      "Mean validation score: 0.859 (std: 0.003)\n",
      "Parameters: {'min_samples_leaf': 1, 'criterion': 'entropy', 'max_features': 10, 'class_weight': None, 'min_samples_split': 501, 'max_depth': None}\n",
      "\n",
      "Model with rank: 2\n",
      "Mean validation score: 0.858 (std: 0.002)\n",
      "Parameters: {'min_samples_leaf': 1, 'criterion': 'gini', 'max_features': 10, 'class_weight': None, 'min_samples_split': 501, 'max_depth': None}\n",
      "\n",
      "Model with rank: 3\n",
      "Mean validation score: 0.858 (std: 0.003)\n",
      "Parameters: {'min_samples_leaf': 1, 'criterion': 'gini', 'max_features': 11, 'class_weight': None, 'min_samples_split': 501, 'max_depth': None}\n",
      "\n"
     ]
    }
   ],
   "source": [
    "# Utility function to report best scores\n",
    "def report(grid_scores, n_top=3):\n",
    "    top_scores = sorted(grid_scores, key=itemgetter(1), reverse=True)[:n_top]\n",
    "    for i, score in enumerate(top_scores):\n",
    "        print(\"Model with rank: {0}\".format(i + 1))\n",
    "        print(\"Mean validation score: {0:.3f} (std: {1:.3f})\".format(\n",
    "              score.mean_validation_score,\n",
    "              np.std(score.cv_validation_scores)))\n",
    "        print(\"Parameters: {0}\".format(score.parameters))\n",
    "        print(\"\")\n",
    "\n",
    "\n",
    "f = list(np.arange(9,14,1))  \n",
    "s = list(np.arange(1,5001,500))\n",
    "            \n",
    "# use a full grid over all parameters\n",
    "param_grid = { \"max_features\": f,\n",
    "              \"min_samples_split\": s,\n",
    "              \"min_samples_leaf\": s,\n",
    "              \"max_depth\": [3,2,1, None],\n",
    "              \"class_weight\":[ \"balanced\" , None],\n",
    "            \"criterion\": [\"gini\", \"entropy\"]}\n",
    "\n",
    "# run grid search\n",
    "grid_search = GridSearchCV(clf, param_grid=param_grid)\n",
    "start = time()\n",
    "grid_search.fit(X, y)\n",
    "\n",
    "print(\"GridSearchCV took %.2f seconds for %d candidate parameter settings.\"\n",
    "      % (time() - start, len(grid_search.grid_scores_)))\n",
    "report(grid_search.grid_scores_)"
   ]
  },
  {
   "cell_type": "code",
   "execution_count": 8,
   "metadata": {
    "collapsed": false
   },
   "outputs": [
    {
     "name": "stdout",
     "output_type": "stream",
     "text": [
      "             precision    recall  f1-score   support\n",
      "\n",
      "          0       0.88      0.87      0.88     12336\n",
      "          1       0.61      0.63      0.62      3945\n",
      "\n",
      "avg / total       0.82      0.82      0.82     16281\n",
      "\n",
      "[[10767  1569]\n",
      " [ 1440  2505]]\n"
     ]
    },
    {
     "data": {
      "text/plain": [
       "0.75196540589723482"
      ]
     },
     "execution_count": 8,
     "metadata": {},
     "output_type": "execute_result"
    }
   ],
   "source": [
    "#using default\n",
    "\n",
    "from sklearn.tree import DecisionTreeClassifier\n",
    "# data from above section\n",
    "\n",
    "# build a classifier\n",
    "clf = DecisionTreeClassifier()\n",
    "\n",
    "clf.fit(X, y)\n",
    "\n",
    "from sklearn import datasets\n",
    "from sklearn import metrics   \n",
    "expected = test[\"Target\"]\n",
    "X1 = test[features]\n",
    "predicted2 = clf.predict(X1)\n",
    "\n",
    "print(metrics.classification_report(expected, predicted2))\n",
    "print(metrics.confusion_matrix(expected, predicted2))\n",
    "\n",
    "\n",
    "# roc \n",
    "probas1_ = clf.fit(X,y).predict_proba(X1)\n",
    "from sklearn.metrics import roc_curve, auc\n",
    "import matplotlib.pyplot as plt\n",
    "false_positive_rate1, true_positive_rate1, thresholds = roc_curve(expected,probas1_[:, 1])\n",
    "roc_auc1 = auc(false_positive_rate1, true_positive_rate1)\n",
    "roc_auc1"
   ]
  },
  {
   "cell_type": "code",
   "execution_count": 9,
   "metadata": {
    "collapsed": false
   },
   "outputs": [
    {
     "name": "stdout",
     "output_type": "stream",
     "text": [
      "             precision    recall  f1-score   support\n",
      "\n",
      "          0       0.88      0.94      0.91     12336\n",
      "          1       0.76      0.60      0.67      3945\n",
      "\n",
      "avg / total       0.85      0.86      0.85     16281\n",
      "\n",
      "[[11596   740]\n",
      " [ 1597  2348]]\n"
     ]
    },
    {
     "data": {
      "text/plain": [
       "0.90461535189596254"
      ]
     },
     "execution_count": 9,
     "metadata": {},
     "output_type": "execute_result"
    }
   ],
   "source": [
    "#using best parameters in random \n",
    "\n",
    "from sklearn.tree import DecisionTreeClassifier\n",
    "# data from above section\n",
    "\n",
    "# build a classifier\n",
    "clf = DecisionTreeClassifier(min_samples_leaf=88, presort = False, max_features =9, \n",
    "        random_state= None, class_weight = None, \n",
    "        criterion = 'gini', max_depth = None, min_samples_split = 564)\n",
    "\n",
    "clf.fit(X, y)\n",
    "from sklearn import datasets\n",
    "from sklearn import metrics   \n",
    "expected = test[\"Target\"]\n",
    "X1 = test[features]\n",
    "predicted2 = clf.predict(X1)\n",
    "\n",
    "print(metrics.classification_report(expected, predicted2))\n",
    "print(metrics.confusion_matrix(expected, predicted2))\n",
    "\n",
    "\n",
    "# roc \n",
    "probas2_ = clf.fit(X, y).predict_proba(X1)\n",
    "from sklearn.metrics import roc_curve, auc\n",
    "import matplotlib.pyplot as plt\n",
    "false_positive_rate2, true_positive_rate2, thresholds = roc_curve(expected,probas2_[:, 1])\n",
    "roc_auc2 = auc(false_positive_rate2, true_positive_rate2)\n",
    "roc_auc2\n"
   ]
  },
  {
   "cell_type": "code",
   "execution_count": 10,
   "metadata": {
    "collapsed": false
   },
   "outputs": [
    {
     "name": "stdout",
     "output_type": "stream",
     "text": [
      "             precision    recall  f1-score   support\n",
      "\n",
      "          0       0.89      0.94      0.91     12336\n",
      "          1       0.76      0.63      0.69      3945\n",
      "\n",
      "avg / total       0.86      0.86      0.86     16281\n",
      "\n",
      "[[11548   788]\n",
      " [ 1472  2473]]\n"
     ]
    }
   ],
   "source": [
    "#use the best parameters from RandomizedSearchCV\n",
    "from sklearn.ensemble import RandomForestClassifier\n",
    "clf = RandomForestClassifier(criterion='entropy', max_features=5, bootstrap= False,\n",
    "                             \n",
    "                             class_weight= None,\n",
    "                             max_depth=None,\n",
    "                             min_samples_leaf=1,\n",
    "                            min_samples_split=501)\n",
    "clf.fit(X, y)\n",
    "\n",
    "\n",
    "from sklearn import datasets\n",
    "from sklearn import metrics   \n",
    "expected = test[\"Target\"]\n",
    "X1 = test[features]\n",
    "predicted3 = clf.predict(X1)\n",
    "\n",
    "print(metrics.classification_report(expected, predicted3))\n",
    "print(metrics.confusion_matrix(expected, predicted3))"
   ]
  },
  {
   "cell_type": "code",
   "execution_count": 11,
   "metadata": {
    "collapsed": false
   },
   "outputs": [
    {
     "data": {
      "text/plain": [
       "0.91580156751638542"
      ]
     },
     "execution_count": 11,
     "metadata": {},
     "output_type": "execute_result"
    }
   ],
   "source": [
    "# roc \n",
    "probas3_ = clf.fit(X, y).predict_proba(X1)\n",
    "from sklearn.metrics import roc_curve, auc\n",
    "import matplotlib.pyplot as plt\n",
    "false_positive_rate3, true_positive_rate3, thresholds = roc_curve(expected,probas3_[:, 1])\n",
    "roc_auc3 = auc(false_positive_rate3, true_positive_rate3)\n",
    "roc_auc3"
   ]
  },
  {
   "cell_type": "code",
   "execution_count": 31,
   "metadata": {
    "collapsed": false
   },
   "outputs": [
    {
     "name": "stdout",
     "output_type": "stream",
     "text": [
      "             precision    recall  f1-score   support\n",
      "\n",
      "          0       0.86      0.92      0.89     12340\n",
      "          1       0.68      0.52      0.59      3941\n",
      "\n",
      "avg / total       0.82      0.83      0.82     16281\n",
      "\n",
      "[[11375   965]\n",
      " [ 1881  2060]]\n"
     ]
    }
   ],
   "source": [
    "#"
   ]
  },
  {
   "cell_type": "code",
   "execution_count": 13,
   "metadata": {
    "collapsed": false
   },
   "outputs": [
    {
     "data": {
      "image/png": "[encoded data removed]",
      "text/plain": [
       "<matplotlib.figure.Figure at 0xcd4990>"
      ]
     },
     "metadata": {},
     "output_type": "display_data"
    }
   ],
   "source": [
    "%matplotlib inline\n",
    "\n",
    "plt.title('Receiver Operating Characteristic-decision tree')\n",
    "plt.plot(false_positive_rate1, true_positive_rate1, 'g',\n",
    "label='AUC-default parameters = %0.5f'% roc_auc1)\n",
    "\n",
    "\n",
    "plt.plot(false_positive_rate2, true_positive_rate2, 'b',\n",
    "label='AUC-best randomized search parameters = %0.5f'% roc_auc2)\n",
    "\n",
    "plt.plot(false_positive_rate3, true_positive_rate3, 'black',\n",
    "label='AUC-best grid search parameters= %0.5f'% roc_auc3)\n",
    "\n",
    "plt.legend(loc='lower right')\n",
    "plt.plot([0,1],[0,1],'r--')\n",
    "plt.xlim([-0.1,1.2])\n",
    "plt.ylim([-0.1,1.2])\n",
    "plt.ylabel('True Positive Rate')\n",
    "plt.xlabel('False Positive Rate')\n",
    "plt.show()"
   ]
  },
  {
   "cell_type": "code",
   "execution_count": null,
   "metadata": {
    "collapsed": true
   },
   "outputs": [],
   "source": []
  }
 ],
 "metadata": {
  "kernelspec": {
   "display_name": "Python 3",
   "language": "python",
   "name": "python3"
  },
  "language_info": {
   "codemirror_mode": {
    "name": "ipython",
    "version": 3
   },
   "file_extension": ".py",
   "mimetype": "text/x-python",
   "name": "python",
   "nbconvert_exporter": "python",
   "pygments_lexer": "ipython3",
   "version": "3.5.1"
  }
 },
 "nbformat": 4,
 "nbformat_minor": 0
}
